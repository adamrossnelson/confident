{
 "cells": [
  {
   "cell_type": "markdown",
   "metadata": {},
   "source": [
    "<img src=\"../images/CONFIDENTDATASCIENCE.png\" alt=\"An image that reads Confident Data Science: The Essential Skills of Data Science, Companion Jupyter Notebook + Coding Examples. Also shows book image.\"/>"
   ]
  },
  {
   "cell_type": "markdown",
   "metadata": {},
   "source": [
    "## Appendix A *QUICK START WITH JUPYTER NOTEBOOKS!*\n",
    "\n",
    "To give citation to these coding examples give reference to an appropriate chapter and page of:\n",
    "\n",
    "*Confident Data Science: Discover the essential skills of data science* <br>\n",
    "(Confident Series, 15) 1st Edition by Adam Ross Nelson (Author) <br>\n",
    "Publisher : Kogan Page (September 26, 2023).\n",
    "\n",
    "\n",
    "### Using Jupyter Notebooks"
   ]
  },
  {
   "cell_type": "code",
   "execution_count": 1,
   "metadata": {},
   "outputs": [
    {
     "name": "stdout",
     "output_type": "stream",
     "text": [
      "The Zen of Python, by Tim Peters\n",
      "\n",
      "Beautiful is better than ugly.\n",
      "Explicit is better than implicit.\n",
      "Simple is better than complex.\n",
      "Complex is better than complicated.\n",
      "Flat is better than nested.\n",
      "Sparse is better than dense.\n",
      "Readability counts.\n",
      "Special cases aren't special enough to break the rules.\n",
      "Although practicality beats purity.\n",
      "Errors should never pass silently.\n",
      "Unless explicitly silenced.\n",
      "In the face of ambiguity, refuse the temptation to guess.\n",
      "There should be one-- and preferably only one --obvious way to do it.\n",
      "Although that way may not be obvious at first unless you're Dutch.\n",
      "Now is better than never.\n",
      "Although never is often better than *right* now.\n",
      "If the implementation is hard to explain, it's a bad idea.\n",
      "If the implementation is easy to explain, it may be a good idea.\n",
      "Namespaces are one honking great idea -- let's do more of those!\n"
     ]
    }
   ],
   "source": [
    "# Import the Zen of Python\n",
    "import this\n"
   ]
  },
  {
   "cell_type": "markdown",
   "metadata": {},
   "source": [
    "## Appendix B *QUICK START WITH PYTHON*\n",
    "\n",
    "### Look! I Can Swim!"
   ]
  },
  {
   "cell_type": "code",
   "execution_count": 2,
   "metadata": {},
   "outputs": [
    {
     "name": "stdout",
     "output_type": "stream",
     "text": [
      "Look Mom! I can swim!\n"
     ]
    }
   ],
   "source": [
    "# The print statement\n",
    "print(\"Look Mom! I can swim!\")"
   ]
  },
  {
   "cell_type": "markdown",
   "metadata": {},
   "source": [
    "### Data Types"
   ]
  },
  {
   "cell_type": "code",
   "execution_count": 3,
   "metadata": {},
   "outputs": [
    {
     "name": "stdout",
     "output_type": "stream",
     "text": [
      "12\n",
      "20.91\n",
      "True\n",
      "César Augusto Cielo Filho\n"
     ]
    }
   ],
   "source": [
    "# Integer\n",
    "depth = 12\n",
    "print(depth)\n",
    "\n",
    "# Float\n",
    "ss = 20.91\n",
    "print(ss)\n",
    "\n",
    "# Boolean\n",
    "is_true = True\n",
    "print(is_true)\n",
    "\n",
    "# String\n",
    "person = \"César Augusto Cielo Filho\"\n",
    "print(person)\n"
   ]
  },
  {
   "cell_type": "code",
   "execution_count": 4,
   "metadata": {},
   "outputs": [
    {
     "name": "stdout",
     "output_type": "stream",
     "text": [
      "Most pools, at their deepest are about 12 feet deep.\n",
      "The fastest world record for the 50m freestyle belongs to\n",
      "César Augusto Cielo Filho who completed the event in 20.91 seconds.\n"
     ]
    }
   ],
   "source": [
    "# Write about the pool and also a world record in swimming.\n",
    "print('Most pools, at their deepest are about ' + str(depth) + ' feet deep.')\n",
    "print('The fastest world record for the 50m freestyle belongs to')\n",
    "print(person + ' who completed the event in ' + str(ss) + ' seconds.')"
   ]
  },
  {
   "cell_type": "markdown",
   "metadata": {},
   "source": [
    "### Common Uses of Data Types"
   ]
  },
  {
   "cell_type": "code",
   "execution_count": 5,
   "metadata": {},
   "outputs": [
    {
     "name": "stdout",
     "output_type": "stream",
     "text": [
      "4\n",
      "0\n",
      "2500\n",
      "2.0\n",
      "An olympic pool holds an estimated\n",
      "2500 cubic meters of water, which is\n",
      "approximately 660500.0 gallons.\n",
      "False\n",
      "True\n",
      "Congratulations to: César Augusto Cielo Filho\n"
     ]
    }
   ],
   "source": [
    "# Arithmetic Operations\n",
    "depth = 2      # Average depth of standard olympic pool (meters)\n",
    "width = 50     # Standard width of an olympic pool (meters)\n",
    "length = 25    # Standard length of an olympic pool (meters)\n",
    "\n",
    "print(depth + depth)            # Addition\n",
    "print(depth - depth)            # Subtraction\n",
    "print(depth * width * length)   # Multiplication\n",
    "print(width / length)           # Division\n",
    "\n",
    "# Additional arithmatic examples + With string manipulations\n",
    "print('An olympic pool holds an estimated')\n",
    "print(str(depth * width * length) + ' cubic meters of water, which is')\n",
    "print('approximately ' + str(depth * width * length * 264.2) + ' gallons.')\n",
    "\n",
    "# Logical Operations\n",
    "is_raining = True\n",
    "is_sunny = False\n",
    "print(is_raining and is_sunny)   # And operator\n",
    "print(is_raining or is_sunny)    # Or operator\n",
    "\n",
    "# String Manipulation\n",
    "message = \"Congratulations to:\"\n",
    "first = \"César\"\n",
    "middle = \"Augusto\"\n",
    "family = \"Cielo Filho\"\n",
    "\n",
    "# String concatenation\n",
    "print(message + ' ' + first + ' ' + middle + ' ' + family)\n"
   ]
  },
  {
   "cell_type": "markdown",
   "metadata": {},
   "source": [
    "### F-Strings"
   ]
  },
  {
   "cell_type": "code",
   "execution_count": 6,
   "metadata": {},
   "outputs": [
    {
     "name": "stdout",
     "output_type": "stream",
     "text": [
      "Congratulations to: César Augusto Cielo Filho!\n"
     ]
    }
   ],
   "source": [
    "# Working with f-strings\n",
    "message = \"Congratulations to:\"\n",
    "first = \"César\"\n",
    "middle = \"Augusto\"\n",
    "family = \"Cielo Filho\"\n",
    "\n",
    "# An example of f-strings\n",
    "print(f'{message} {first} {middle} {family}!')"
   ]
  },
  {
   "cell_type": "code",
   "execution_count": 7,
   "metadata": {},
   "outputs": [
    {
     "name": "stdout",
     "output_type": "stream",
     "text": [
      "The volumne of the pool is of 2500 sq meters.\n"
     ]
    }
   ],
   "source": [
    "# F-strings with arithmatic\n",
    "print(f\"The volumne of the pool is of {depth * width * length} sq meters.\")"
   ]
  },
  {
   "cell_type": "markdown",
   "metadata": {},
   "source": [
    "### The String .format() Method"
   ]
  },
  {
   "cell_type": "code",
   "execution_count": 8,
   "metadata": {},
   "outputs": [
    {
     "name": "stdout",
     "output_type": "stream",
     "text": [
      "Congratulations to: César Augusto Cielo Filho!\n",
      "You swam the 50m freestyle in 20.91 seconds!\n"
     ]
    }
   ],
   "source": [
    "# Replicate the above with .format() methods\n",
    "print('{} {} {} {}!'.format(message, first, middle, family))\n",
    "print('You swam the 50m freestyle in {} seconds!'.format(ss))"
   ]
  },
  {
   "cell_type": "code",
   "execution_count": 9,
   "metadata": {},
   "outputs": [
    {
     "name": "stdout",
     "output_type": "stream",
     "text": [
      "Congratulations to: César Augusto Cielo Filho!\n"
     ]
    }
   ],
   "source": [
    "# Replicate the above with .format() and named placeholders\n",
    "print('{3} {2} {1} {0}!'.format(family, middle, first, message))"
   ]
  },
  {
   "cell_type": "markdown",
   "metadata": {},
   "source": [
    "### Structured Data Types\n",
    "\n",
    "#### Lists"
   ]
  },
  {
   "cell_type": "code",
   "execution_count": 10,
   "metadata": {},
   "outputs": [
    {
     "name": "stdout",
     "output_type": "stream",
     "text": [
      "[25, 50, 2]\n",
      "['César', 'Augusto', 'Cielo Filho']\n",
      "[[25, 50, 2], ['César', 'Augusto', 'Cielo Filho']]\n"
     ]
    }
   ],
   "source": [
    "# Create two lists with data from above\n",
    "pool_dimensions = [length, width, depth]\n",
    "record_holder = [first, middle, family]\n",
    "\n",
    "# Make a list of lists\n",
    "my_list = [pool_dimensions, record_holder]\n",
    "\n",
    "# Display the results\n",
    "print(my_list[0])        # Call the first item in my_list\n",
    "print(my_list[1])        # Call the second item in my_list\n",
    "print(my_list)           # Print all items in my_list"
   ]
  },
  {
   "cell_type": "markdown",
   "metadata": {},
   "source": [
    "#### Sets"
   ]
  },
  {
   "cell_type": "code",
   "execution_count": 11,
   "metadata": {},
   "outputs": [],
   "source": [
    "my_set = {1, 2, 'three', 4.0}"
   ]
  },
  {
   "cell_type": "markdown",
   "metadata": {},
   "source": [
    "#### Dictionaries"
   ]
  },
  {
   "cell_type": "code",
   "execution_count": 12,
   "metadata": {},
   "outputs": [
    {
     "name": "stdout",
     "output_type": "stream",
     "text": [
      "Congratulations! César Augusto Cielo Filho!\n",
      "You swam 50m freestyle in 20.91 seconds.\n"
     ]
    }
   ],
   "source": [
    "# Using data from above create a dictionary\n",
    "data = {'message':'Congratulations!',\n",
    "        'swimmer':record_holder,\n",
    "        'event':'50m freestyle',\n",
    "        'time':ss}\n",
    "\n",
    "# Report results from the data\n",
    "print('{} {}!'.format(data['message'], ' '.join(data['swimmer'])))\n",
    "print('You swam {} in {} seconds.'.format(data['event'], data['time']))"
   ]
  },
  {
   "cell_type": "markdown",
   "metadata": {},
   "source": [
    "#### Tuples"
   ]
  },
  {
   "cell_type": "code",
   "execution_count": 13,
   "metadata": {},
   "outputs": [],
   "source": [
    "# Declare a tuple with data from above\n",
    "my_tuple = (message, first, middle, family)"
   ]
  },
  {
   "cell_type": "markdown",
   "metadata": {},
   "source": [
    "### List Comprehension"
   ]
  },
  {
   "cell_type": "code",
   "execution_count": 14,
   "metadata": {},
   "outputs": [
    {
     "name": "stdout",
     "output_type": "stream",
     "text": [
      "[2, 4, 6, 8, 10]\n"
     ]
    }
   ],
   "source": [
    "# Create a new list with only the even numbers\n",
    "numbers = [1, 2, 3, 4, 5, 6, 7, 8, 9, 10]\n",
    "even_numbers = [x for x in numbers if x % 2 == 0]\n",
    "print(even_numbers)"
   ]
  },
  {
   "cell_type": "code",
   "execution_count": 15,
   "metadata": {},
   "outputs": [
    {
     "name": "stdout",
     "output_type": "stream",
     "text": [
      "[21.66, 22.325, 22.895, 23.654999999999998, 24.224999999999998]\n"
     ]
    }
   ],
   "source": [
    "# A list of word records\n",
    "former_records = [22.8, 23.5, 24.1, 24.9, 25.5]\n",
    "record_goals = [x * .95 for x in former_records]\n",
    "\n",
    "print(record_goals)"
   ]
  },
  {
   "cell_type": "markdown",
   "metadata": {},
   "source": [
    "### Declaring Simple Functions"
   ]
  },
  {
   "cell_type": "code",
   "execution_count": 16,
   "metadata": {},
   "outputs": [],
   "source": [
    "# Define a function that will cacluate and return volume\n",
    "def calc_volumn(l, w, h):\n",
    "    \"\"\"Multiple three numbers together. Returns the result.\"\"\"\n",
    "    result = l * w * h\n",
    "    return result"
   ]
  },
  {
   "cell_type": "code",
   "execution_count": 17,
   "metadata": {},
   "outputs": [
    {
     "name": "stdout",
     "output_type": "stream",
     "text": [
      "2500\n"
     ]
    }
   ],
   "source": [
    "# Call the function with arguments 5 and 7\n",
    "vol = calc_volumn(length, width, depth)\n",
    "\n",
    "# Print the result\n",
    "print(vol)"
   ]
  },
  {
   "cell_type": "markdown",
   "metadata": {},
   "source": [
    "### Anonymous Functions"
   ]
  },
  {
   "cell_type": "code",
   "execution_count": 18,
   "metadata": {},
   "outputs": [
    {
     "name": "stdout",
     "output_type": "stream",
     "text": [
      "25\n"
     ]
    }
   ],
   "source": [
    "# Take one argument x and returns its square\n",
    "square = lambda x: x**2\n",
    "print(square(5))"
   ]
  },
  {
   "cell_type": "code",
   "execution_count": 19,
   "metadata": {},
   "outputs": [
    {
     "name": "stdout",
     "output_type": "stream",
     "text": [
      "The pool w...\n"
     ]
    }
   ],
   "source": [
    "# Take a string and return the first five characters\n",
    "first_five = lambda x: x[:10] + '...'\n",
    "print(first_five('The pool will be open all summer.'))"
   ]
  },
  {
   "cell_type": "markdown",
   "metadata": {},
   "source": [
    "## Appendix C Importing + Instaling Packages\n",
    "\n",
    "### Random"
   ]
  },
  {
   "cell_type": "code",
   "execution_count": 20,
   "metadata": {},
   "outputs": [
    {
     "data": {
      "text/plain": [
       "3"
      ]
     },
     "execution_count": 20,
     "metadata": {},
     "output_type": "execute_result"
    }
   ],
   "source": [
    "# Provide a random number between 1 and 10\n",
    "import random\n",
    "random.randint(1, 10)"
   ]
  },
  {
   "cell_type": "code",
   "execution_count": 21,
   "metadata": {},
   "outputs": [
    {
     "data": {
      "text/plain": [
       "10"
      ]
     },
     "execution_count": 21,
     "metadata": {},
     "output_type": "execute_result"
    }
   ],
   "source": [
    "# Import and assign to an alias\n",
    "import random as rn\n",
    "rn.randint(1, 10)"
   ]
  },
  {
   "cell_type": "code",
   "execution_count": 22,
   "metadata": {},
   "outputs": [
    {
     "name": "stdout",
     "output_type": "stream",
     "text": [
      "3.141592653589793\n",
      "9.0\n"
     ]
    }
   ],
   "source": [
    "# Demonstrate pi and square roots with the math module\n",
    "import math\n",
    "print(math.pi)\n",
    "print(math.sqrt(81))"
   ]
  },
  {
   "cell_type": "code",
   "execution_count": 23,
   "metadata": {},
   "outputs": [
    {
     "name": "stdout",
     "output_type": "stream",
     "text": [
      "3.141592653589793\n",
      "9.0\n"
     ]
    }
   ],
   "source": [
    "# Demonstrate how to import specific portions of a module\n",
    "from math import sqrt\n",
    "from math import pi\n",
    "print(pi)\n",
    "print(math.sqrt(81))"
   ]
  },
  {
   "cell_type": "code",
   "execution_count": 24,
   "metadata": {},
   "outputs": [
    {
     "name": "stdout",
     "output_type": "stream",
     "text": [
      "3.141592653589793\n",
      "9.0\n"
     ]
    }
   ],
   "source": [
    "# Demonstrate how to import specific portions in one line\n",
    "from math import sqrt, pi\n",
    "print(pi)\n",
    "print(math.sqrt(81))"
   ]
  },
  {
   "cell_type": "code",
   "execution_count": 25,
   "metadata": {},
   "outputs": [],
   "source": [
    "# Import pandas and give it the name pd.\n",
    "import pandas as pd\n",
    "# Import NumPy and give it the name np.\n",
    "import numpy as np\n",
    "# Import Seaborn and give it the name sns.\n",
    "import seaborn as sns\n"
   ]
  },
  {
   "cell_type": "code",
   "execution_count": null,
   "metadata": {},
   "outputs": [],
   "source": []
  },
  {
   "cell_type": "markdown",
   "metadata": {},
   "source": [
    "## Update + Change Log\n",
    "\n",
    "March, 2023 - Created notebook.<br>\n",
    "April, 2023 - Prepared for GitHub."
   ]
  },
  {
   "cell_type": "code",
   "execution_count": null,
   "metadata": {},
   "outputs": [],
   "source": []
  }
 ],
 "metadata": {
  "kernelspec": {
   "display_name": "Python 3 (ipykernel)",
   "language": "python",
   "name": "python3"
  },
  "language_info": {
   "codemirror_mode": {
    "name": "ipython",
    "version": 3
   },
   "file_extension": ".py",
   "mimetype": "text/x-python",
   "name": "python",
   "nbconvert_exporter": "python",
   "pygments_lexer": "ipython3",
   "version": "3.9.13"
  }
 },
 "nbformat": 4,
 "nbformat_minor": 4
}
